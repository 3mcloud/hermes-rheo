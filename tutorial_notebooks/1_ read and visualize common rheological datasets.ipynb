{
 "cells": [
  {
   "cell_type": "markdown",
   "metadata": {
    "application/vnd.databricks.v1+cell": {
     "cellMetadata": {},
     "inputWidgets": {},
     "nuid": "cc7271df-94af-49c4-963b-bc023367be13",
     "showTitle": false,
     "title": ""
    }
   },
   "source": [
    "### Import the necessary packages"
   ]
  },
  {
   "cell_type": "code",
   "execution_count": 1,
   "metadata": {
    "application/vnd.databricks.v1+cell": {
     "cellMetadata": {},
     "inputWidgets": {},
     "nuid": "ea4aa924-8c55-49c1-aec8-240789faefef",
     "showTitle": false,
     "title": ""
    }
   },
   "outputs": [],
   "source": [
    "from piblin.data import ExperimentSet\n",
    "from hermes_rheo.file_readers.trios_rheo_txt import TriosRheoReader\n",
    "from hermes_rheo.transforms.rheo_analysis import RheoAnalysis \n",
    "import matplotlib.pyplot as plt "
   ]
  },
  {
   "cell_type": "markdown",
   "metadata": {
    "application/vnd.databricks.v1+cell": {
     "cellMetadata": {},
     "inputWidgets": {},
     "nuid": "71f70cf7-08eb-4cbb-8806-29451d06ed7a",
     "showTitle": false,
     "title": ""
    }
   },
   "source": [
    "### Specify the filepath for your data"
   ]
  },
  {
   "cell_type": "code",
   "execution_count": 2,
   "metadata": {
    "application/vnd.databricks.v1+cell": {
     "cellMetadata": {},
     "inputWidgets": {},
     "nuid": "854f832d-d625-4b00-ad8a-bc4bdc3445c1",
     "showTitle": false,
     "title": ""
    }
   },
   "outputs": [],
   "source": [
    "import os\n",
    "\n",
    "# Get the current directory where the notebook is located\n",
    "current_dir = os.path.dirname(os.path.abspath(\"__file__\"))  # Use \"__file__\" to get the notebook's directory\n",
    "\n",
    "# Construct the relative path\n",
    "filepath_creep_dataset = os.path.join(current_dir, 'tutorial_data', 'tutorial_1', 'creep_experiment.txt')\n",
    "filepath_multi_technique_dataset = os.path.join(current_dir, 'tutorial_data', 'tutorial_1', 'multi_technique.txt')"
   ]
  },
  {
   "cell_type": "markdown",
   "metadata": {
    "application/vnd.databricks.v1+cell": {
     "cellMetadata": {},
     "inputWidgets": {},
     "nuid": "dd21e4af-3139-48d8-9bc0-c56f44d91896",
     "showTitle": false,
     "title": ""
    }
   },
   "source": [
    "### Read the file using $piblin$"
   ]
  },
  {
   "cell_type": "markdown",
   "metadata": {},
   "source": [
    "Here we use the package piblin to read the data and transform them into the piblin dataset format which will allows us to conviniently apply the rheological transforms of hermes."
   ]
  },
  {
   "cell_type": "code",
   "execution_count": 3,
   "metadata": {
    "application/vnd.databricks.v1+cell": {
     "cellMetadata": {},
     "inputWidgets": {},
     "nuid": "26e7c53e-b404-4df2-80a7-a9f87c75a677",
     "showTitle": false,
     "title": ""
    }
   },
   "outputs": [
    {
     "name": "stdout",
     "output_type": "stream",
     "text": [
      "ExperimentSet\n",
      "-------------\n",
      "\n",
      "Summary\n",
      "-------\n",
      "Number of Experiments: 1\n",
      "\n",
      "Varied Conditions\n",
      "----------------\n",
      "\n",
      "index\tn_rep\tmethod\tData Types\t\n",
      "0\t1\tCreep - 1\tTemperature(°C)=f(Temperature[°C]) (483 points)\t\n",
      "\n",
      "\n"
     ]
    }
   ],
   "source": [
    "creep_dataset = ExperimentSet(TriosRheoReader().data_from_filepath(filepath=filepath_creep_dataset, create_composite_datasets=True).measurements)\n",
    "print(creep_dataset)"
   ]
  },
  {
   "cell_type": "markdown",
   "metadata": {
    "application/vnd.databricks.v1+cell": {
     "cellMetadata": {},
     "inputWidgets": {},
     "nuid": "b5ea3285-2f51-4cbb-b9bb-f531283ac565",
     "showTitle": false,
     "title": ""
    }
   },
   "source": [
    "#### Apply desired $hermes$ pipeline to the experiment"
   ]
  },
  {
   "cell_type": "code",
   "execution_count": 4,
   "metadata": {
    "application/vnd.databricks.v1+cell": {
     "cellMetadata": {},
     "inputWidgets": {},
     "nuid": "a3cf363e-9660-4234-9c63-6524b2eaa6ba",
     "showTitle": false,
     "title": ""
    }
   },
   "outputs": [
    {
     "name": "stdout",
     "output_type": "stream",
     "text": [
      "ExperimentSet\n",
      "-------------\n",
      "\n",
      "Summary\n",
      "-------\n",
      "Number of Experiments: 1\n",
      "\n",
      "Varied Conditions\n",
      "----------------\n",
      "\n",
      "index\tn_rep\tmethod\tData Types\t\n",
      "0\t1\tCreep - 1\tstrain(%)=f(time[min]) (483 points)\t\n",
      "\n",
      "\n"
     ]
    }
   ],
   "source": [
    "pipeline = RheoAnalysis()\n",
    "processed_creep_dataset = pipeline(creep_dataset)\n",
    "print(processed_creep_dataset)"
   ]
  },
  {
   "cell_type": "markdown",
   "metadata": {
    "application/vnd.databricks.v1+cell": {
     "cellMetadata": {},
     "inputWidgets": {},
     "nuid": "f1f2a4ef-2fbf-497b-a41f-56d51b297854",
     "showTitle": false,
     "title": ""
    }
   },
   "source": [
    "#### Visualize the processed data"
   ]
  },
  {
   "cell_type": "code",
   "execution_count": 5,
   "metadata": {
    "application/vnd.databricks.v1+cell": {
     "cellMetadata": {},
     "inputWidgets": {},
     "nuid": "f8bc1ad3-9cbf-4831-973f-8b797cb21ea5",
     "showTitle": false,
     "title": ""
    }
   },
   "outputs": [
    {
     "name": "stdout",
     "output_type": "stream",
     "text": [
      "ExperimentSet\n",
      "-------------\n",
      "\n",
      "Summary\n",
      "-------\n",
      "Number of Experiments: 1\n",
      "\n",
      "Varied Conditions\n",
      "----------------\n",
      "\n",
      "index\tn_rep\tmethod\tData Types\t\n",
      "0\t1\tCreep - 1\tstrain(%)=f(time[min]) (483 points)\t\n",
      "\n",
      "\n"
     ]
    },
    {
     "data": {
      "image/png": "[encoded data removed]",
      "text/plain": [
       "<Figure size 500x500 with 1 Axes>"
      ]
     },
     "metadata": {},
     "output_type": "display_data"
    }
   ],
   "source": [
    "fig_creep, axs_creep = processed_creep_dataset.visualize(expand_replicates=True, marker='o')"
   ]
  },
  {
   "cell_type": "markdown",
   "metadata": {},
   "source": [
    "#### Read a file with multiple techniques in it"
   ]
  },
  {
   "cell_type": "code",
   "execution_count": 6,
   "metadata": {},
   "outputs": [
    {
     "ename": "NameError",
     "evalue": "name 'read_file' is not defined",
     "output_type": "error",
     "traceback": [
      "\u001b[1;31m---------------------------------------------------------------------------\u001b[0m",
      "\u001b[1;31mNameError\u001b[0m                                 Traceback (most recent call last)",
      "Cell \u001b[1;32mIn[6], line 1\u001b[0m\n\u001b[1;32m----> 1\u001b[0m multi_technique_dataset \u001b[38;5;241m=\u001b[39m \u001b[43mread_file\u001b[49m(filepath\u001b[38;5;241m=\u001b[39mfilepath_multi_technique_dataset, create_composite_datasets\u001b[38;5;241m=\u001b[39m\u001b[38;5;28;01mTrue\u001b[39;00m)\n\u001b[0;32m      2\u001b[0m pipeline \u001b[38;5;241m=\u001b[39m RheoAnalysis()\n\u001b[0;32m      3\u001b[0m processed_multi_technique_dataset \u001b[38;5;241m=\u001b[39m pipeline(multi_technique_dataset)\n",
      "\u001b[1;31mNameError\u001b[0m: name 'read_file' is not defined"
     ]
    }
   ],
   "source": [
    "multi_technique_dataset = read_file(filepath=filepath_multi_technique_dataset, create_composite_datasets=True)\n",
    "pipeline = RheoAnalysis()\n",
    "processed_multi_technique_dataset = pipeline(multi_technique_dataset)\n",
    "print(processed_multi_technique_dataset)"
   ]
  },
  {
   "cell_type": "markdown",
   "metadata": {
    "application/vnd.databricks.v1+cell": {
     "cellMetadata": {},
     "inputWidgets": {},
     "nuid": "b0a82654-49d1-4db1-8790-a4554c8c6b14",
     "showTitle": false,
     "title": ""
    }
   },
   "source": [
    "#### Access specific experiment in the dataset"
   ]
  },
  {
   "cell_type": "code",
   "execution_count": null,
   "metadata": {
    "application/vnd.databricks.v1+cell": {
     "cellMetadata": {},
     "inputWidgets": {},
     "nuid": "01907e8c-da1d-45f4-834e-4bf98691c7bf",
     "showTitle": false,
     "title": ""
    }
   },
   "outputs": [],
   "source": [
    "# index, n_rep, dataset number\n",
    "amplitude_sweep_experiment = processed_multi_technique_dataset[0][0].datasets[0]\n",
    "print(amplitude_sweep_experiment)"
   ]
  },
  {
   "cell_type": "markdown",
   "metadata": {
    "application/vnd.databricks.v1+cell": {
     "cellMetadata": {},
     "inputWidgets": {},
     "nuid": "4861da07-1041-43b4-8841-d7ac6532c2a2",
     "showTitle": false,
     "title": ""
    }
   },
   "source": [
    "#### Visualize specific set of data"
   ]
  },
  {
   "cell_type": "code",
   "execution_count": null,
   "metadata": {
    "application/vnd.databricks.v1+cell": {
     "cellMetadata": {},
     "inputWidgets": {},
     "nuid": "df0db642-3e6d-4031-a13b-8fc0596d8c97",
     "showTitle": false,
     "title": ""
    }
   },
   "outputs": [],
   "source": [
    "fig_sweep, ax_sweep = amplitude_sweep_experiment.visualize(marker='o',linewidth='1', color='red')  \n",
    "fig_sweep.set_size_inches(6, 4)\n",
    "ax_sweep.set_xscale('log')\n",
    "# ax_sweep.set_yscale('log')"
   ]
  },
  {
   "cell_type": "markdown",
   "metadata": {
    "application/vnd.databricks.v1+cell": {
     "cellMetadata": {},
     "inputWidgets": {},
     "nuid": "669b1a8a-a1dc-4fbe-840c-b5519afbe8a2",
     "showTitle": false,
     "title": ""
    }
   },
   "source": [
    "#### Access different coordinate in the experiment"
   ]
  },
  {
   "cell_type": "code",
   "execution_count": null,
   "metadata": {
    "application/vnd.databricks.v1+cell": {
     "cellMetadata": {},
     "inputWidgets": {},
     "nuid": "a6046f4e-ec26-4685-b5d1-291dc726b935",
     "showTitle": false,
     "title": ""
    }
   },
   "outputs": [],
   "source": [
    "amplitude_sweep_experiment.switch_coordinates(independent_name='step time', dependent_name='loss modulus')\n",
    "fig3, ax3 = amplitude_sweep_experiment.visualize(marker='o', color='blue')  \n",
    "fig3.set_size_inches(6, 4)\n",
    "ax3.set_xscale('log')\n",
    "ax3.set_yscale('log')"
   ]
  },
  {
   "cell_type": "markdown",
   "metadata": {},
   "source": [
    "#### Access the independent and dependent variables of the dataset"
   ]
  },
  {
   "cell_type": "code",
   "execution_count": null,
   "metadata": {},
   "outputs": [],
   "source": [
    "loss_modulus = amplitude_sweep_experiment.x_values\n",
    "step_time = amplitude_sweep_experiment.y_values\n",
    "\n",
    "print('loss modulus = ',loss_modulus)\n",
    "print('step time = ',step_time)"
   ]
  },
  {
   "cell_type": "markdown",
   "metadata": {},
   "source": [
    "#### Access different experiment in the dataset"
   ]
  },
  {
   "cell_type": "code",
   "execution_count": null,
   "metadata": {},
   "outputs": [],
   "source": [
    "frequency_sweep_experiment = processed_multi_technique_dataset[1][0].datasets[0]\n",
    "flow_ramp_experiment = processed_multi_technique_dataset[2][0].datasets[0]\n",
    "print(frequency_sweep_experiment)\n",
    "print(\" \")\n",
    "print(\" \")\n",
    "print(flow_ramp_experiment)"
   ]
  },
  {
   "cell_type": "code",
   "execution_count": null,
   "metadata": {},
   "outputs": [],
   "source": [
    "# Visualize frequency sweep experiment \n",
    "fig_freq, ax_freq = frequency_sweep_experiment.visualize(marker='s',linewidth='1', color='black')  \n",
    "fig_sweep.set_size_inches(6, 4)\n",
    "ax_freq.set_xscale('log')\n",
    "ax_freq.set_yscale('log')\n",
    "\n",
    "# Visualize flow ramp experiment \n",
    "fig_flow, ax_flow= flow_ramp_experiment.visualize(marker='^',linewidth='1', color='green')\n",
    "fig_flow.set_size_inches(6, 4)\n",
    "ax_flow.set_yscale('log')\n",
    "ax_flow.set_xscale('log')"
   ]
  },
  {
   "cell_type": "markdown",
   "metadata": {
    "application/vnd.databricks.v1+cell": {
     "cellMetadata": {},
     "inputWidgets": {},
     "nuid": "512f1408-8839-4ff8-b78f-a463887474b5",
     "showTitle": false,
     "title": ""
    }
   },
   "source": [
    "#### Reading multiple files in the same directory"
   ]
  },
  {
   "cell_type": "code",
   "execution_count": null,
   "metadata": {
    "application/vnd.databricks.v1+cell": {
     "cellMetadata": {},
     "inputWidgets": {},
     "nuid": "58090395-0baa-4209-b07a-f3732ae1dbc2",
     "showTitle": false,
     "title": ""
    }
   },
   "outputs": [],
   "source": [
    "directory_filepath = os.path.join(current_dir, 'tutorial_data', 'tutorial_1',)\n",
    "\n",
    "experiments = read_directory(directory_filepath, merge_redundant=False)\n",
    "experiments.detail_to_condition(\"source_file_name_head\");\n",
    "experiments.split_by_condition_name(\"source_file_name_head\");"
   ]
  },
  {
   "cell_type": "code",
   "execution_count": null,
   "metadata": {
    "application/vnd.databricks.v1+cell": {
     "cellMetadata": {},
     "inputWidgets": {},
     "nuid": "3a245c4e-9d85-4a93-beec-e2ee1aef887c",
     "showTitle": false,
     "title": ""
    }
   },
   "outputs": [],
   "source": [
    "print(experiments)"
   ]
  },
  {
   "cell_type": "code",
   "execution_count": null,
   "metadata": {
    "application/vnd.databricks.v1+cell": {
     "cellMetadata": {},
     "inputWidgets": {},
     "nuid": "33d6e2c3-1fff-4eda-992d-4407ebf6464c",
     "showTitle": false,
     "title": ""
    }
   },
   "outputs": [],
   "source": []
  }
 ],
 "metadata": {
  "application/vnd.databricks.v1+notebook": {
   "dashboards": [],
   "environmentMetadata": null,
   "language": "python",
   "notebookMetadata": {
    "pythonIndentUnit": 4
   },
   "notebookName": "Tutorial 1: read and visualize CHIRP data",
   "widgets": {}
  },
  "kernelspec": {
   "display_name": "Python 3 (ipykernel)",
   "language": "python",
   "name": "python3"
  },
  "language_info": {
   "codemirror_mode": {
    "name": "ipython",
    "version": 3
   },
   "file_extension": ".py",
   "mimetype": "text/x-python",
   "name": "python",
   "nbconvert_exporter": "python",
   "pygments_lexer": "ipython3",
   "version": "3.10.9"
  }
 },
 "nbformat": 4,
 "nbformat_minor": 4
}
