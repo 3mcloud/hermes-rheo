{
 "cells": [
  {
   "cell_type": "code",
   "execution_count": 1,
   "id": "a589c48f-c8cc-4953-a3a7-99a05a44d05d",
   "metadata": {},
   "outputs": [],
   "source": [
    "from cralds_base.dataio import read_file, read_directory\n",
    "from hermes_rheo.transforms.rheo_analysis import RheoAnalysis \n",
    "import matplotlib.pyplot as plt "
   ]
  },
  {
   "cell_type": "code",
   "execution_count": 2,
   "id": "7bd4bdf6-3491-4cdf-a3ce-08ce6874c737",
   "metadata": {},
   "outputs": [
    {
     "name": "stdout",
     "output_type": "stream",
     "text": [
      "ExperimentSet\n",
      "-------------\n",
      "\n",
      "Summary\n",
      "-------\n",
      "Number of Experiments: 20\n",
      "\n",
      "Varied Conditions\n",
      "-----------------\n",
      "method\n",
      "\n",
      "index\tn_rep\tmethod\tData Types\tData Types\tData Types\t\n",
      "0\t1\tStep name\tArbitrary Wave - 1\tstorage modulus(Pa)=f(angular frequency[rad/s]) (156 points)\tvelocity(rad/s)=f(temperature[°C]) (7499 points)\tstrain filtered masked(a.u)=f(time masked[s]) (7000 points)\t\n",
      "1\t1\tStep name\tArbitrary Wave - 2\tstorage modulus(Pa)=f(angular frequency[rad/s]) (156 points)\tvelocity(rad/s)=f(temperature[°C]) (7499 points)\tstrain filtered masked(a.u)=f(time masked[s]) (7000 points)\t\n",
      "2\t1\tStep name\tArbitrary Wave - 3\tstorage modulus(Pa)=f(angular frequency[rad/s]) (156 points)\tvelocity(rad/s)=f(temperature[°C]) (7499 points)\tstrain filtered masked(a.u)=f(time masked[s]) (7000 points)\t\n",
      "3\t1\tStep name\tArbitrary Wave - 4\tstorage modulus(Pa)=f(angular frequency[rad/s]) (156 points)\tvelocity(rad/s)=f(temperature[°C]) (7499 points)\tstrain filtered masked(a.u)=f(time masked[s]) (7000 points)\t\n",
      "4\t1\tStep name\tArbitrary Wave - 5\tstorage modulus(Pa)=f(angular frequency[rad/s]) (156 points)\tvelocity(rad/s)=f(temperature[°C]) (7499 points)\tstrain filtered masked(a.u)=f(time masked[s]) (7000 points)\t\n",
      "5\t1\tStep name\tArbitrary Wave - 6\tstorage modulus(Pa)=f(angular frequency[rad/s]) (156 points)\tvelocity(rad/s)=f(temperature[°C]) (7499 points)\tstrain filtered masked(a.u)=f(time masked[s]) (7000 points)\t\n",
      "6\t1\tStep name\tArbitrary Wave - 7\tstorage modulus(Pa)=f(angular frequency[rad/s]) (156 points)\tvelocity(rad/s)=f(temperature[°C]) (7499 points)\tstrain filtered masked(a.u)=f(time masked[s]) (7000 points)\t\n",
      "7\t1\tStep name\tArbitrary Wave - 8\tstorage modulus(Pa)=f(angular frequency[rad/s]) (156 points)\tvelocity(rad/s)=f(temperature[°C]) (7499 points)\tstrain filtered masked(a.u)=f(time masked[s]) (7000 points)\t\n",
      "8\t1\tStep name\tArbitrary Wave - 9\tstorage modulus(Pa)=f(angular frequency[rad/s]) (156 points)\tvelocity(rad/s)=f(temperature[°C]) (7499 points)\tstrain filtered masked(a.u)=f(time masked[s]) (7000 points)\t\n",
      "9\t1\tStep name\tArbitrary Wave - 10\tstorage modulus(Pa)=f(angular frequency[rad/s]) (156 points)\tvelocity(rad/s)=f(temperature[°C]) (7499 points)\tstrain filtered masked(a.u)=f(time masked[s]) (7000 points)\t\n",
      "10\t1\tStep name\tArbitrary Wave - 11\tstorage modulus(Pa)=f(angular frequency[rad/s]) (156 points)\tvelocity(rad/s)=f(temperature[°C]) (7499 points)\tstrain filtered masked(a.u)=f(time masked[s]) (7000 points)\t\n",
      "11\t1\tStep name\tArbitrary Wave - 12\tstorage modulus(Pa)=f(angular frequency[rad/s]) (156 points)\tvelocity(rad/s)=f(temperature[°C]) (7499 points)\tstrain filtered masked(a.u)=f(time masked[s]) (7000 points)\t\n",
      "12\t1\tStep name\tArbitrary Wave - 13\tstorage modulus(Pa)=f(angular frequency[rad/s]) (156 points)\tvelocity(rad/s)=f(temperature[°C]) (7499 points)\tstrain filtered masked(a.u)=f(time masked[s]) (7000 points)\t\n",
      "13\t1\tStep name\tArbitrary Wave - 14\tstorage modulus(Pa)=f(angular frequency[rad/s]) (156 points)\tvelocity(rad/s)=f(temperature[°C]) (7499 points)\tstrain filtered masked(a.u)=f(time masked[s]) (7000 points)\t\n",
      "14\t1\tStep name\tArbitrary Wave - 15\tstorage modulus(Pa)=f(angular frequency[rad/s]) (156 points)\tvelocity(rad/s)=f(temperature[°C]) (7499 points)\tstrain filtered masked(a.u)=f(time masked[s]) (7000 points)\t\n",
      "15\t1\tStep name\tArbitrary Wave - 16\tstorage modulus(Pa)=f(angular frequency[rad/s]) (156 points)\tvelocity(rad/s)=f(temperature[°C]) (7499 points)\tstrain filtered masked(a.u)=f(time masked[s]) (7000 points)\t\n",
      "16\t1\tStep name\tArbitrary Wave - 17\tstorage modulus(Pa)=f(angular frequency[rad/s]) (156 points)\tvelocity(rad/s)=f(temperature[°C]) (7499 points)\tstrain filtered masked(a.u)=f(time masked[s]) (7000 points)\t\n",
      "17\t1\tStep name\tArbitrary Wave - 18\tstorage modulus(Pa)=f(angular frequency[rad/s]) (156 points)\tvelocity(rad/s)=f(temperature[°C]) (7499 points)\tstrain filtered masked(a.u)=f(time masked[s]) (7000 points)\t\n",
      "18\t1\tStep name\tArbitrary Wave - 19\tstorage modulus(Pa)=f(angular frequency[rad/s]) (156 points)\tvelocity(rad/s)=f(temperature[°C]) (7499 points)\tstrain filtered masked(a.u)=f(time masked[s]) (7000 points)\t\n",
      "19\t1\tStep name\tArbitrary Wave - 20\tstorage modulus(Pa)=f(angular frequency[rad/s]) (156 points)\tvelocity(rad/s)=f(temperature[°C]) (7499 points)\tstrain filtered masked(a.u)=f(time masked[s]) (7000 points)\t\n",
      "\n",
      "\n"
     ]
    }
   ],
   "source": [
    "filepath = r'Q:\\Projects\\Rheology_OP\\CRAL_hermes\\damien_vadillo\\SoR-2024\\468MP\\153 - hermes -  468mp - 0.3-60 rad_s 10pct.2024.09.16.txt' # Chirp data\n",
    "experiment = read_file(filepath, create_composite_datasets=True)\n",
    "pipeline = RheoAnalysis() \n",
    "\n",
    "processed_experiment = pipeline(experiment)\n",
    "print(processed_experiment)"
   ]
  },
  {
   "cell_type": "code",
   "execution_count": null,
   "id": "cd5558c9-f073-4ae8-aba4-a09497b0c40e",
   "metadata": {},
   "outputs": [],
   "source": []
  }
 ],
 "metadata": {
  "kernelspec": {
   "display_name": "Python 3 (ipykernel)",
   "language": "python",
   "name": "python3"
  },
  "language_info": {
   "codemirror_mode": {
    "name": "ipython",
    "version": 3
   },
   "file_extension": ".py",
   "mimetype": "text/x-python",
   "name": "python",
   "nbconvert_exporter": "python",
   "pygments_lexer": "ipython3",
   "version": "3.10.9"
  }
 },
 "nbformat": 4,
 "nbformat_minor": 5
}
